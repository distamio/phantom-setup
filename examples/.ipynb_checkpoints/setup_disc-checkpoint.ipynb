{
 "cells": [
  {
   "cell_type": "markdown",
   "metadata": {},
   "source": [
    "# Accretion disc\n",
    "\n",
    "In this tutorial we set up a protoplanetary disc around a star represented by a sink particle, and we add a planet. This notebook generates a Phantom \"temporary\" dump file that can be read by Phantom as an initial condition. It also generates a Phantom \"in\" file. Together, these files can start a Phantom simulation."
   ]
  },
  {
   "cell_type": "markdown",
   "metadata": {},
   "source": [
    "## Initialization\n",
    "\n",
    "First we import the required modules."
   ]
  },
  {
   "cell_type": "code",
   "execution_count": 1,
   "metadata": {},
   "outputs": [],
   "source": [
    "import matplotlib.pyplot as plt\n",
    "import numpy as np\n",
    "import phantomsetup"
   ]
  },
  {
   "cell_type": "markdown",
   "metadata": {},
   "source": [
    "Here we set some constants for convenience."
   ]
  },
  {
   "cell_type": "code",
   "execution_count": 2,
   "metadata": {},
   "outputs": [],
   "source": [
    "igas = phantomsetup.defaults.PARTICLE_TYPE['igas']"
   ]
  },
  {
   "cell_type": "markdown",
   "metadata": {},
   "source": [
    "## Parameters\n",
    "\n",
    "Now we set the parameters for the problem.\n",
    "\n",
    "First is the `prefix` which sets the file name for the dump file and Phantom in file."
   ]
  },
  {
   "cell_type": "code",
   "execution_count": 3,
   "metadata": {},
   "outputs": [],
   "source": [
    "prefix = 'disc'"
   ]
  },
  {
   "cell_type": "markdown",
   "metadata": {},
   "source": [
    "### Resolution\n",
    "\n",
    "We choose the resolution to be $10^6$ gas particles."
   ]
  },
  {
   "cell_type": "code",
   "execution_count": 4,
   "metadata": {},
   "outputs": [],
   "source": [
    "number_of_particles = 1_000_000\n",
    "particle_type = igas"
   ]
  },
  {
   "cell_type": "markdown",
   "metadata": {},
   "source": [
    "### Viscosity\n",
    "\n",
    "The SPH $\\alpha$ viscosity parameter is its minimal value of 0.1."
   ]
  },
  {
   "cell_type": "code",
   "execution_count": 5,
   "metadata": {},
   "outputs": [],
   "source": [
    "alpha_artificial = 0.1"
   ]
  },
  {
   "cell_type": "markdown",
   "metadata": {},
   "source": [
    "### Units\n",
    "\n",
    "We set the length and mass units to be au and solar masses, respectively. We will also set the time unit such that the gravitational constant is unity."
   ]
  },
  {
   "cell_type": "code",
   "execution_count": 6,
   "metadata": {},
   "outputs": [],
   "source": [
    "length_unit = phantomsetup.units.unit_string_to_cgs('au')\n",
    "mass_unit = phantomsetup.units.unit_string_to_cgs('solarm')\n",
    "gravitational_constant = 1.0"
   ]
  },
  {
   "cell_type": "markdown",
   "metadata": {},
   "source": [
    "### Star\n",
    "\n",
    "The star is of solar mass, at the origin, with a 5 au accretion radius."
   ]
  },
  {
   "cell_type": "code",
   "execution_count": 7,
   "metadata": {},
   "outputs": [],
   "source": [
    "stellar_mass = 1.0\n",
    "stellar_accretion_radius = 5.0\n",
    "stellar_position = (0.0, 0.0, 0.0)\n",
    "stellar_velocity = (0.0, 0.0, 0.0)"
   ]
  },
  {
   "cell_type": "markdown",
   "metadata": {},
   "source": [
    "### Disc\n",
    "\n",
    "The disc has mass 0.01 solar masses, it extends from 10 au to 200 au."
   ]
  },
  {
   "cell_type": "code",
   "execution_count": 8,
   "metadata": {},
   "outputs": [],
   "source": [
    "radius_min = 10.0\n",
    "radius_max = 200.0"
   ]
  },
  {
   "cell_type": "code",
   "execution_count": 9,
   "metadata": {},
   "outputs": [],
   "source": [
    "disc_mass = 0.01"
   ]
  },
  {
   "cell_type": "markdown",
   "metadata": {},
   "source": [
    "### Equation of state\n",
    "\n",
    "The equation of state is locally isothermal. We set the aspect ratio H/R at a reference radius."
   ]
  },
  {
   "cell_type": "code",
   "execution_count": 10,
   "metadata": {},
   "outputs": [],
   "source": [
    "ieos = 3\n",
    "q_index = 0.75\n",
    "aspect_ratio = 0.05\n",
    "reference_radius = 10.0"
   ]
  },
  {
   "cell_type": "markdown",
   "metadata": {},
   "source": [
    "### Planet\n",
    "\n",
    "We add a planet at 100 au."
   ]
  },
  {
   "cell_type": "code",
   "execution_count": 11,
   "metadata": {},
   "outputs": [],
   "source": [
    "planet_mass = 0.001\n",
    "planet_position = (100.0, 0.0, 0.0)"
   ]
  },
  {
   "cell_type": "code",
   "execution_count": 12,
   "metadata": {},
   "outputs": [],
   "source": [
    "orbital_radius = np.linalg.norm(planet_position)\n",
    "planet_velocity = np.sqrt(gravitational_constant * stellar_mass / orbital_radius)"
   ]
  },
  {
   "cell_type": "markdown",
   "metadata": {},
   "source": [
    "We set the planet accretion radius as a fraction of the Hill sphere radius."
   ]
  },
  {
   "cell_type": "code",
   "execution_count": 13,
   "metadata": {},
   "outputs": [],
   "source": [
    "planet_accretion_radius_fraction_hill_radius = 0.25"
   ]
  },
  {
   "cell_type": "code",
   "execution_count": 14,
   "metadata": {
    "lines_to_next_cell": 1
   },
   "outputs": [],
   "source": [
    "planet_hill_radius = phantomsetup.orbits.hill_sphere_radius(\n",
    "    orbital_radius, planet_mass, stellar_mass\n",
    ")\n",
    "planet_accretion_radius = (\n",
    "    planet_accretion_radius_fraction_hill_radius * planet_hill_radius\n",
    ")"
   ]
  },
  {
   "cell_type": "markdown",
   "metadata": {},
   "source": [
    "### Surface density distribution\n",
    "\n",
    "For the surface density distribution we use the Lynden-Bell and Pringle (1974) self-similar solution, i.e. a power law with an exponential taper."
   ]
  },
  {
   "cell_type": "code",
   "execution_count": 15,
   "metadata": {},
   "outputs": [],
   "source": [
    "def density_distribution(radius, radius_critical, gamma):\n",
    "    \"\"\"Self-similar disc surface density distribution.\n",
    "\n",
    "    This is the Lyden-Bell and Pringle (1974) solution, i.e. a power law\n",
    "    with an exponential taper.\n",
    "    \"\"\"\n",
    "    return phantomsetup.disc.self_similar_accretion_disc(radius, radius_critical, gamma)\n",
    "\n",
    "radius_critical = 100.0\n",
    "gamma = 1.0"
   ]
  },
  {
   "cell_type": "code",
   "execution_count": 16,
   "metadata": {},
   "outputs": [],
   "source": [
    "args = (radius_critical, gamma)"
   ]
  },
  {
   "cell_type": "markdown",
   "metadata": {},
   "source": [
    "## Instantiate the `Setup` object\n",
    "\n",
    "The following instantiates the `phantomsetup.Setup` object."
   ]
  },
  {
   "cell_type": "code",
   "execution_count": 17,
   "metadata": {},
   "outputs": [],
   "source": [
    "setup = phantomsetup.Setup()"
   ]
  },
  {
   "cell_type": "markdown",
   "metadata": {},
   "source": [
    "## Set attributes and add particles\n",
    "\n",
    "### Prefix\n",
    "\n",
    "Set the prefix."
   ]
  },
  {
   "cell_type": "code",
   "execution_count": 18,
   "metadata": {},
   "outputs": [],
   "source": [
    "setup.prefix = prefix"
   ]
  },
  {
   "cell_type": "markdown",
   "metadata": {},
   "source": [
    "### Units\n",
    "\n",
    "Set units."
   ]
  },
  {
   "cell_type": "code",
   "execution_count": 19,
   "metadata": {},
   "outputs": [
    {
     "data": {
      "text/plain": [
       "PhantomSetup('disc')"
      ]
     },
     "execution_count": 19,
     "metadata": {},
     "output_type": "execute_result"
    }
   ],
   "source": [
    "setup.set_units(\n",
    "    length=length_unit, mass=mass_unit, gravitational_constant_is_unity=True\n",
    ")"
   ]
  },
  {
   "cell_type": "markdown",
   "metadata": {},
   "source": [
    "### Equation of state\n",
    "\n",
    "Set the equation of state. We get `polyk` from the aspect ratio parametrization."
   ]
  },
  {
   "cell_type": "code",
   "execution_count": 20,
   "metadata": {},
   "outputs": [],
   "source": [
    "polyk = phantomsetup.eos.polyk_for_locally_isothermal_disc(\n",
    "    q_index, reference_radius, aspect_ratio, stellar_mass, gravitational_constant\n",
    ")"
   ]
  },
  {
   "cell_type": "code",
   "execution_count": 21,
   "metadata": {},
   "outputs": [
    {
     "data": {
      "text/plain": [
       "PhantomSetup('disc')"
      ]
     },
     "execution_count": 21,
     "metadata": {},
     "output_type": "execute_result"
    }
   ],
   "source": [
    "setup.set_equation_of_state(ieos=ieos, polyk=polyk)"
   ]
  },
  {
   "cell_type": "markdown",
   "metadata": {},
   "source": [
    "### Viscosity\n",
    "\n",
    "Set the numerical viscosity to Phantom disc viscosity."
   ]
  },
  {
   "cell_type": "code",
   "execution_count": 22,
   "metadata": {},
   "outputs": [
    {
     "data": {
      "text/plain": [
       "PhantomSetup('disc')"
      ]
     },
     "execution_count": 22,
     "metadata": {},
     "output_type": "execute_result"
    }
   ],
   "source": [
    "setup.set_dissipation(disc_viscosity=True, alpha=alpha_artificial)"
   ]
  },
  {
   "cell_type": "markdown",
   "metadata": {},
   "source": [
    "### Star\n",
    "\n",
    "Add a star at the origin."
   ]
  },
  {
   "cell_type": "code",
   "execution_count": 23,
   "metadata": {},
   "outputs": [
    {
     "data": {
      "text/plain": [
       "PhantomSetup('disc')"
      ]
     },
     "execution_count": 23,
     "metadata": {},
     "output_type": "execute_result"
    }
   ],
   "source": [
    "setup.add_sink(\n",
    "    mass=stellar_mass,\n",
    "    accretion_radius=stellar_accretion_radius,\n",
    "    position=stellar_position,\n",
    "    velocity=stellar_velocity,\n",
    ")"
   ]
  },
  {
   "cell_type": "markdown",
   "metadata": {},
   "source": [
    "### Disc\n",
    "\n",
    "Add the disc around the star."
   ]
  },
  {
   "cell_type": "code",
   "execution_count": 24,
   "metadata": {},
   "outputs": [
    {
     "data": {
      "text/plain": [
       "PhantomSetup('disc')"
      ]
     },
     "execution_count": 24,
     "metadata": {},
     "output_type": "execute_result"
    }
   ],
   "source": [
    "disc = phantomsetup.Disc(\n",
    "    particle_type=particle_type,\n",
    "    number_of_particles=number_of_particles,\n",
    "    disc_mass=disc_mass,\n",
    "    density_distribution=density_distribution,\n",
    "    radius_range=(radius_min, radius_max),\n",
    "    q_index=q_index,\n",
    "    aspect_ratio=aspect_ratio,\n",
    "    reference_radius=reference_radius,\n",
    "    stellar_mass=stellar_mass,\n",
    "    gravitational_constant=gravitational_constant,\n",
    "    extra_args=(radius_critical, gamma),\n",
    ")\n",
    "\n",
    "setup.add_container(disc)"
   ]
  },
  {
   "cell_type": "markdown",
   "metadata": {},
   "source": [
    "### Planet\n",
    "\n",
    "Add a planet in orbit around the star."
   ]
  },
  {
   "cell_type": "code",
   "execution_count": 25,
   "metadata": {},
   "outputs": [
    {
     "data": {
      "text/plain": [
       "PhantomSetup('disc')"
      ]
     },
     "execution_count": 25,
     "metadata": {},
     "output_type": "execute_result"
    }
   ],
   "source": [
    "setup.add_sink(\n",
    "    mass=planet_mass,\n",
    "    accretion_radius=planet_accretion_radius,\n",
    "    position=planet_position,\n",
    "    velocity=planet_velocity,\n",
    ")"
   ]
  },
  {
   "cell_type": "markdown",
   "metadata": {},
   "source": [
    "## Plot\n",
    "\n",
    "Now we plot some quantities to see what we have set up.\n",
    "\n",
    "First is the particles in the xy-plane. The sink particles are marked in red."
   ]
  },
  {
   "cell_type": "code",
   "execution_count": 26,
   "metadata": {},
   "outputs": [
    {
     "data": {
      "image/png": "[encoded data removed]",
      "text/plain": [
       "<Figure size 432x288 with 1 Axes>"
      ]
     },
     "metadata": {
      "needs_background": "light"
     },
     "output_type": "display_data"
    }
   ],
   "source": [
    "x, y, z = disc.arrays['position'][:, 0], disc.arrays['position'][:, 1], disc.arrays['position'][:, 2]\n",
    "\n",
    "fig, ax = plt.subplots()\n",
    "ax.plot(x[::10], y[::10], 'k.', ms=0.5)\n",
    "for sink in setup.sinks:\n",
    "    ax.plot(sink.position[0], sink.position[1], 'ro')\n",
    "ax.set_xlabel('$x$')\n",
    "ax.set_ylabel('$y$')\n",
    "ax.set_aspect('equal')"
   ]
  },
  {
   "cell_type": "markdown",
   "metadata": {},
   "source": [
    "Next we plot the particles in the rz-plane."
   ]
  },
  {
   "cell_type": "code",
   "execution_count": 27,
   "metadata": {},
   "outputs": [
    {
     "data": {
      "text/plain": [
       "(-37.66126763271492, 36.95783658390337)"
      ]
     },
     "execution_count": 27,
     "metadata": {},
     "output_type": "execute_result"
    },
    {
     "data": {
      "image/png": "[encoded data removed]",
      "text/plain": [
       "<Figure size 432x288 with 1 Axes>"
      ]
     },
     "metadata": {
      "needs_background": "light"
     },
     "output_type": "display_data"
    }
   ],
   "source": [
    "position_cylindrical, velocity_cylindrical = phantomsetup.geometry.coordinate_transform(\n",
    "    position=disc.arrays['position'],\n",
    "    velocity=disc.arrays['velocity'],\n",
    "    geometry_from='cartesian',\n",
    "    geometry_to='cylindrical'\n",
    ")\n",
    "\n",
    "R = position_cylindrical[:, 0]\n",
    "\n",
    "fig, ax = plt.subplots()\n",
    "ax.plot(R[::10], z[::10], 'k.', ms=0.5)\n",
    "ax.set_xlabel('$R$')\n",
    "ax.set_ylabel('$z$')\n",
    "ax.set_aspect('equal')\n",
    "ax.set_ylim(bottom=2 * z.min(), top=2 * z.max())"
   ]
  },
  {
   "cell_type": "markdown",
   "metadata": {},
   "source": [
    "Finally, we plot $v_{\\phi}$ as a function of radius."
   ]
  },
  {
   "cell_type": "code",
   "execution_count": 28,
   "metadata": {},
   "outputs": [
    {
     "data": {
      "text/plain": [
       "Text(0, 0.5, '$v_{\\\\phi}$')"
      ]
     },
     "execution_count": 28,
     "metadata": {},
     "output_type": "execute_result"
    },
    {
     "data": {
      "image/png": "[encoded data removed]",
      "text/plain": [
       "<Figure size 432x288 with 1 Axes>"
      ]
     },
     "metadata": {
      "needs_background": "light"
     },
     "output_type": "display_data"
    }
   ],
   "source": [
    "vphi = velocity_cylindrical[:, 1]\n",
    "\n",
    "fig, ax = plt.subplots()\n",
    "ax.plot(R[::10], vphi[::10], 'k.', ms=0.5)\n",
    "ax.set_xlabel('$R$')\n",
    "ax.set_ylabel('$v_{\\phi}$')"
   ]
  },
  {
   "cell_type": "markdown",
   "metadata": {},
   "source": [
    "## Write to file\n",
    "\n",
    "Now that we are happy with the setup, write the \"temporary\" dump file with the initial conditions and the Phantom \"in\" file.\n",
    "\n",
    "First we set a working directory for the simulation."
   ]
  },
  {
   "cell_type": "code",
   "execution_count": 29,
   "metadata": {},
   "outputs": [],
   "source": [
    "working_dir = '~/runs/disc'"
   ]
  },
  {
   "cell_type": "code",
   "execution_count": 30,
   "metadata": {},
   "outputs": [
    {
     "data": {
      "text/plain": [
       "PhantomSetup('disc')"
      ]
     },
     "execution_count": 30,
     "metadata": {},
     "output_type": "execute_result"
    }
   ],
   "source": [
    "setup.write_dump_file(directory=working_dir)\n",
    "setup.write_in_file(directory=working_dir)"
   ]
  },
  {
   "cell_type": "markdown",
   "metadata": {},
   "source": [
    "## Compile Phantom\n",
    "\n",
    "You can start a Phantom calculation from these two files but you must compile Phantom with the correct Makefile variables. We can use the `phantom_compile_command` method to show how Phantom would be compiled."
   ]
  },
  {
   "cell_type": "code",
   "execution_count": 31,
   "metadata": {},
   "outputs": [
    {
     "name": "stdout",
     "output_type": "stream",
     "text": [
      "make \\\n",
      "  SETUP=empty \\\n",
      "  SYSTEM=gfortran \\\n",
      "  HDF5=yes \\\n",
      "  HDF5ROOT=/usr/local/opt/hdf5 \\\n",
      "  DISC_VISCOSITY=yes \\\n",
      "  DRIVING=no \\\n",
      "  DUST=no \\\n",
      "  DUSTGROWTH=no \\\n",
      "  GRAVITY=no \\\n",
      "  H2CHEM=no \\\n",
      "  IND_TIMESTEPS=yes \\\n",
      "  INJECT_PARTICLES=no \\\n",
      "  ISOTHERMAL=yes \\\n",
      "  KERNEL=cubic \\\n",
      "  MAXDUSTSMALL=11 \\\n",
      "  MAXDUSTLARGE=11 \\\n",
      "  MCFOST=no \\\n",
      "  MHD=no \\\n",
      "  NONIDEALMHD=no \\\n",
      "  PERIODIC=no \\\n",
      "  PHOTO=no\n"
     ]
    }
   ],
   "source": [
    "print(setup.phantom_compile_command())"
   ]
  },
  {
   "cell_type": "markdown",
   "metadata": {},
   "source": [
    "To compile Phantom we can use the `compile_phantom` method to compile Phantom. For example, the following will compile Phantom located in `phantom_dir` and copy the binary to `working_dir`.\n",
    "\n",
    "```\n",
    "result = setup.compile_phantom(\n",
    "    phantom_dir='~/repos/phantom',\n",
    "    working_dir=working_dir\n",
    ")\n",
    "```"
   ]
  }
 ],
 "metadata": {
  "jupytext": {
   "cell_metadata_filter": "-all",
   "main_language": "python",
   "notebook_metadata_filter": "-all"
  },
  "kernelspec": {
   "display_name": "Python 3",
   "language": "python",
   "name": "python3"
  },
  "language_info": {
   "codemirror_mode": {
    "name": "ipython",
    "version": 3
   },
   "file_extension": ".py",
   "mimetype": "text/x-python",
   "name": "python",
   "nbconvert_exporter": "python",
   "pygments_lexer": "ipython3",
   "version": "3.7.3"
  }
 },
 "nbformat": 4,
 "nbformat_minor": 4
}
